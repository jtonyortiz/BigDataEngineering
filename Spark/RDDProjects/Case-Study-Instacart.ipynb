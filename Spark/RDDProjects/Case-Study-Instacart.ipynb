{
 "cells": [
  {
   "cell_type": "code",
   "execution_count": 1,
   "metadata": {},
   "outputs": [],
   "source": [
    "from pyspark.sql import SparkSession"
   ]
  },
  {
   "cell_type": "code",
   "execution_count": 2,
   "metadata": {},
   "outputs": [],
   "source": [
    "spark = SparkSession \\\n",
    "    .builder \\\n",
    "    .master('yarn')\\\n",
    "    .appName(\"RDD creation\")\\\n",
    "    .getOrCreate()"
   ]
  },
  {
   "cell_type": "code",
   "execution_count": 3,
   "metadata": {},
   "outputs": [
    {
     "data": {
      "text/html": [
       "\n",
       "            <div>\n",
       "                <p><b>SparkSession - in-memory</b></p>\n",
       "                \n",
       "        <div>\n",
       "            <p><b>SparkContext</b></p>\n",
       "\n",
       "            <p><a href=\"http://ip-10-1-1-204.ap-south-1.compute.internal:4044\">Spark UI</a></p>\n",
       "\n",
       "            <dl>\n",
       "              <dt>Version</dt>\n",
       "                <dd><code>v2.4.0</code></dd>\n",
       "              <dt>Master</dt>\n",
       "                <dd><code>yarn</code></dd>\n",
       "              <dt>AppName</dt>\n",
       "                <dd><code>RDD creation</code></dd>\n",
       "            </dl>\n",
       "        </div>\n",
       "        \n",
       "            </div>\n",
       "        "
      ],
      "text/plain": [
       "<pyspark.sql.session.SparkSession at 0x7f097c058f90>"
      ]
     },
     "execution_count": 3,
     "metadata": {},
     "output_type": "execute_result"
    }
   ],
   "source": [
    "spark"
   ]
  },
  {
   "cell_type": "code",
   "execution_count": 11,
   "metadata": {},
   "outputs": [],
   "source": [
    "aisles_df = spark.read.options(header='True', inferSchema='True', delimiter=',') \\\n",
    "  .csv(\"aisles.csv\")"
   ]
  },
  {
   "cell_type": "code",
   "execution_count": 12,
   "metadata": {},
   "outputs": [
    {
     "name": "stdout",
     "output_type": "stream",
     "text": [
      "root\n",
      " |-- aisle_id: integer (nullable = true)\n",
      " |-- aisle: string (nullable = true)\n",
      "\n"
     ]
    }
   ],
   "source": [
    "aisles_df.printSchema()"
   ]
  },
  {
   "cell_type": "code",
   "execution_count": 13,
   "metadata": {},
   "outputs": [],
   "source": [
    "dep_df = spark.read.options(header='True', inferSchema='True', delimiter=',') \\\n",
    "  .csv(\"departments.csv\")"
   ]
  },
  {
   "cell_type": "code",
   "execution_count": 14,
   "metadata": {},
   "outputs": [
    {
     "name": "stdout",
     "output_type": "stream",
     "text": [
      "root\n",
      " |-- department_id: integer (nullable = true)\n",
      " |-- department: string (nullable = true)\n",
      "\n"
     ]
    }
   ],
   "source": [
    "dep_df.printSchema()"
   ]
  },
  {
   "cell_type": "code",
   "execution_count": 16,
   "metadata": {},
   "outputs": [],
   "source": [
    "order_prod_train_df = spark.read.options(header='True', inferSchema='True', delimiter=',') \\\n",
    "  .csv(\"order_products__train.csv\")"
   ]
  },
  {
   "cell_type": "code",
   "execution_count": 17,
   "metadata": {},
   "outputs": [
    {
     "name": "stdout",
     "output_type": "stream",
     "text": [
      "root\n",
      " |-- order_id: integer (nullable = true)\n",
      " |-- product_id: integer (nullable = true)\n",
      " |-- add_to_cart_order: integer (nullable = true)\n",
      " |-- reordered: integer (nullable = true)\n",
      "\n"
     ]
    }
   ],
   "source": [
    "order_prod_train_df.printSchema()"
   ]
  },
  {
   "cell_type": "code",
   "execution_count": 18,
   "metadata": {},
   "outputs": [],
   "source": [
    "products_df = spark.read.options(header='True', inferSchema='True', delimiter=',') \\\n",
    "  .csv(\"products.csv\")"
   ]
  },
  {
   "cell_type": "code",
   "execution_count": 19,
   "metadata": {},
   "outputs": [
    {
     "name": "stdout",
     "output_type": "stream",
     "text": [
      "root\n",
      " |-- product_id: integer (nullable = true)\n",
      " |-- product_name: string (nullable = true)\n",
      " |-- aisle_id: string (nullable = true)\n",
      " |-- department_id: string (nullable = true)\n",
      "\n"
     ]
    }
   ],
   "source": [
    "products_df.printSchema()"
   ]
  },
  {
   "cell_type": "code",
   "execution_count": 20,
   "metadata": {},
   "outputs": [],
   "source": [
    "sample_submission_df = spark.read.options(header='True', inferSchema='True', delimiter=',') \\\n",
    "  .csv(\"sample_submission.csv\")"
   ]
  },
  {
   "cell_type": "code",
   "execution_count": 21,
   "metadata": {},
   "outputs": [
    {
     "name": "stdout",
     "output_type": "stream",
     "text": [
      "root\n",
      " |-- order_id: integer (nullable = true)\n",
      " |-- products: string (nullable = true)\n",
      "\n"
     ]
    }
   ],
   "source": [
    "sample_submission_df.printSchema()"
   ]
  },
  {
   "cell_type": "code",
   "execution_count": 22,
   "metadata": {},
   "outputs": [],
   "source": [
    "orders_df = spark.read.options(header='True', inferSchema='True', delimiter=',') \\\n",
    "  .csv(\"orders.csv\")"
   ]
  },
  {
   "cell_type": "code",
   "execution_count": 23,
   "metadata": {},
   "outputs": [
    {
     "name": "stdout",
     "output_type": "stream",
     "text": [
      "root\n",
      " |-- order_id: integer (nullable = true)\n",
      " |-- user_id: integer (nullable = true)\n",
      " |-- eval_set: string (nullable = true)\n",
      " |-- order_number: integer (nullable = true)\n",
      " |-- order_dow: integer (nullable = true)\n",
      " |-- order_hour_of_day: integer (nullable = true)\n",
      " |-- days_since_prior_order: double (nullable = true)\n",
      "\n"
     ]
    }
   ],
   "source": [
    "orders_df.printSchema()"
   ]
  },
  {
   "cell_type": "code",
   "execution_count": 25,
   "metadata": {},
   "outputs": [],
   "source": [
    "order_prod_prior_df = spark.read.options(header='True', inferSchema='True', delimiter=',') \\\n",
    "  .csv(\"order_products__prior.csv\")"
   ]
  },
  {
   "cell_type": "code",
   "execution_count": 26,
   "metadata": {},
   "outputs": [
    {
     "name": "stdout",
     "output_type": "stream",
     "text": [
      "root\n",
      " |-- order_id: integer (nullable = true)\n",
      " |-- product_id: integer (nullable = true)\n",
      " |-- add_to_cart_order: integer (nullable = true)\n",
      " |-- reordered: integer (nullable = true)\n",
      "\n"
     ]
    }
   ],
   "source": [
    "order_prod_prior_df.printSchema()"
   ]
  },
  {
   "cell_type": "code",
   "execution_count": 27,
   "metadata": {},
   "outputs": [
    {
     "name": "stdout",
     "output_type": "stream",
     "text": [
      "+----------+--------------------+--------+-------------+\n",
      "|product_id|        product_name|aisle_id|department_id|\n",
      "+----------+--------------------+--------+-------------+\n",
      "|         1|Chocolate Sandwic...|      61|           19|\n",
      "|         2|    All-Seasons Salt|     104|           13|\n",
      "|         3|Robust Golden Uns...|      94|            7|\n",
      "|         4|Smart Ones Classi...|      38|            1|\n",
      "|         5|Green Chile Anyti...|       5|           13|\n",
      "|         6|        Dry Nose Oil|      11|           11|\n",
      "|         7|Pure Coconut Wate...|      98|            7|\n",
      "|         8|Cut Russet Potato...|     116|            1|\n",
      "|         9|Light Strawberry ...|     120|           16|\n",
      "|        10|Sparkling Orange ...|     115|            7|\n",
      "|        11|   Peach Mango Juice|      31|            7|\n",
      "|        12|Chocolate Fudge L...|     119|            1|\n",
      "|        13|   Saline Nasal Mist|      11|           11|\n",
      "|        14|Fresh Scent Dishw...|      74|           17|\n",
      "|        15|Overnight Diapers...|      56|           18|\n",
      "|        16|Mint Chocolate Fl...|     103|           19|\n",
      "|        17|   Rendered Duck Fat|      35|           12|\n",
      "|        18|Pizza for One Sup...|      79|            1|\n",
      "|        19|Gluten Free Quino...|      63|            9|\n",
      "|        20|Pomegranate Cranb...|      98|            7|\n",
      "+----------+--------------------+--------+-------------+\n",
      "only showing top 20 rows\n",
      "\n"
     ]
    }
   ],
   "source": [
    "products_df.show()"
   ]
  },
  {
   "cell_type": "code",
   "execution_count": 28,
   "metadata": {},
   "outputs": [
    {
     "name": "stdout",
     "output_type": "stream",
     "text": [
      "+--------+--------------------+\n",
      "|aisle_id|               aisle|\n",
      "+--------+--------------------+\n",
      "|       1|prepared soups sa...|\n",
      "|       2|   specialty cheeses|\n",
      "|       3| energy granola bars|\n",
      "|       4|       instant foods|\n",
      "|       5|marinades meat pr...|\n",
      "|       6|               other|\n",
      "|       7|       packaged meat|\n",
      "|       8|     bakery desserts|\n",
      "|       9|         pasta sauce|\n",
      "|      10|    kitchen supplies|\n",
      "|      11|    cold flu allergy|\n",
      "|      12|         fresh pasta|\n",
      "|      13|      prepared meals|\n",
      "|      14|tofu meat alterna...|\n",
      "|      15|    packaged seafood|\n",
      "|      16|         fresh herbs|\n",
      "|      17|  baking ingredients|\n",
      "|      18|bulk dried fruits...|\n",
      "|      19|       oils vinegars|\n",
      "|      20|        oral hygiene|\n",
      "+--------+--------------------+\n",
      "only showing top 20 rows\n",
      "\n"
     ]
    }
   ],
   "source": [
    "aisles_df.show()"
   ]
  },
  {
   "cell_type": "code",
   "execution_count": 29,
   "metadata": {},
   "outputs": [
    {
     "name": "stdout",
     "output_type": "stream",
     "text": [
      "+----------+--------------------+--------+-------------+\n",
      "|product_id|        product_name|aisle_id|department_id|\n",
      "+----------+--------------------+--------+-------------+\n",
      "|         1|Chocolate Sandwic...|      61|           19|\n",
      "|         2|    All-Seasons Salt|     104|           13|\n",
      "|         3|Robust Golden Uns...|      94|            7|\n",
      "|         4|Smart Ones Classi...|      38|            1|\n",
      "|         5|Green Chile Anyti...|       5|           13|\n",
      "|         6|        Dry Nose Oil|      11|           11|\n",
      "|         7|Pure Coconut Wate...|      98|            7|\n",
      "|         8|Cut Russet Potato...|     116|            1|\n",
      "|         9|Light Strawberry ...|     120|           16|\n",
      "|        10|Sparkling Orange ...|     115|            7|\n",
      "|        11|   Peach Mango Juice|      31|            7|\n",
      "|        12|Chocolate Fudge L...|     119|            1|\n",
      "|        13|   Saline Nasal Mist|      11|           11|\n",
      "|        14|Fresh Scent Dishw...|      74|           17|\n",
      "|        15|Overnight Diapers...|      56|           18|\n",
      "|        16|Mint Chocolate Fl...|     103|           19|\n",
      "|        17|   Rendered Duck Fat|      35|           12|\n",
      "|        18|Pizza for One Sup...|      79|            1|\n",
      "|        19|Gluten Free Quino...|      63|            9|\n",
      "|        20|Pomegranate Cranb...|      98|            7|\n",
      "+----------+--------------------+--------+-------------+\n",
      "only showing top 20 rows\n",
      "\n"
     ]
    }
   ],
   "source": [
    "products_df.show()"
   ]
  },
  {
   "cell_type": "code",
   "execution_count": 30,
   "metadata": {},
   "outputs": [
    {
     "name": "stdout",
     "output_type": "stream",
     "text": [
      "+--------+-------+--------+------------+---------+-----------------+----------------------+\n",
      "|order_id|user_id|eval_set|order_number|order_dow|order_hour_of_day|days_since_prior_order|\n",
      "+--------+-------+--------+------------+---------+-----------------+----------------------+\n",
      "| 2539329|      1|   prior|           1|        2|                8|                  null|\n",
      "| 2398795|      1|   prior|           2|        3|                7|                  15.0|\n",
      "|  473747|      1|   prior|           3|        3|               12|                  21.0|\n",
      "| 2254736|      1|   prior|           4|        4|                7|                  29.0|\n",
      "|  431534|      1|   prior|           5|        4|               15|                  28.0|\n",
      "| 3367565|      1|   prior|           6|        2|                7|                  19.0|\n",
      "|  550135|      1|   prior|           7|        1|                9|                  20.0|\n",
      "| 3108588|      1|   prior|           8|        1|               14|                  14.0|\n",
      "| 2295261|      1|   prior|           9|        1|               16|                   0.0|\n",
      "| 2550362|      1|   prior|          10|        4|                8|                  30.0|\n",
      "| 1187899|      1|   train|          11|        4|                8|                  14.0|\n",
      "| 2168274|      2|   prior|           1|        2|               11|                  null|\n",
      "| 1501582|      2|   prior|           2|        5|               10|                  10.0|\n",
      "| 1901567|      2|   prior|           3|        1|               10|                   3.0|\n",
      "|  738281|      2|   prior|           4|        2|               10|                   8.0|\n",
      "| 1673511|      2|   prior|           5|        3|               11|                   8.0|\n",
      "| 1199898|      2|   prior|           6|        2|                9|                  13.0|\n",
      "| 3194192|      2|   prior|           7|        2|               12|                  14.0|\n",
      "|  788338|      2|   prior|           8|        1|               15|                  27.0|\n",
      "| 1718559|      2|   prior|           9|        2|                9|                   8.0|\n",
      "+--------+-------+--------+------------+---------+-----------------+----------------------+\n",
      "only showing top 20 rows\n",
      "\n"
     ]
    }
   ],
   "source": [
    "orders_df.show()"
   ]
  },
  {
   "cell_type": "code",
   "execution_count": 31,
   "metadata": {},
   "outputs": [
    {
     "name": "stdout",
     "output_type": "stream",
     "text": [
      "+--------+--------------------+\n",
      "|aisle_id|               aisle|\n",
      "+--------+--------------------+\n",
      "|       1|prepared soups sa...|\n",
      "|       2|   specialty cheeses|\n",
      "|       3| energy granola bars|\n",
      "|       4|       instant foods|\n",
      "|       5|marinades meat pr...|\n",
      "|       6|               other|\n",
      "|       7|       packaged meat|\n",
      "|       8|     bakery desserts|\n",
      "|       9|         pasta sauce|\n",
      "|      10|    kitchen supplies|\n",
      "|      11|    cold flu allergy|\n",
      "|      12|         fresh pasta|\n",
      "|      13|      prepared meals|\n",
      "|      14|tofu meat alterna...|\n",
      "|      15|    packaged seafood|\n",
      "|      16|         fresh herbs|\n",
      "|      17|  baking ingredients|\n",
      "|      18|bulk dried fruits...|\n",
      "|      19|       oils vinegars|\n",
      "|      20|        oral hygiene|\n",
      "+--------+--------------------+\n",
      "only showing top 20 rows\n",
      "\n"
     ]
    }
   ],
   "source": [
    "aisles_df.show()"
   ]
  },
  {
   "cell_type": "code",
   "execution_count": 32,
   "metadata": {},
   "outputs": [
    {
     "name": "stdout",
     "output_type": "stream",
     "text": [
      "+--------+-----------+\n",
      "|order_id|   products|\n",
      "+--------+-----------+\n",
      "|      17|39276 29259|\n",
      "|      34|39276 29259|\n",
      "|     137|39276 29259|\n",
      "|     182|39276 29259|\n",
      "|     257|39276 29259|\n",
      "|     313|39276 29259|\n",
      "|     353|39276 29259|\n",
      "|     386|39276 29259|\n",
      "|     414|39276 29259|\n",
      "|     418|39276 29259|\n",
      "|     437|39276 29259|\n",
      "|     452|39276 29259|\n",
      "|     474|39276 29259|\n",
      "|     492|39276 29259|\n",
      "|     497|39276 29259|\n",
      "|     513|39276 29259|\n",
      "|     517|39276 29259|\n",
      "|     604|39276 29259|\n",
      "|     680|39276 29259|\n",
      "|     758|39276 29259|\n",
      "+--------+-----------+\n",
      "only showing top 20 rows\n",
      "\n"
     ]
    }
   ],
   "source": [
    "sample_submission_df.show()"
   ]
  },
  {
   "cell_type": "code",
   "execution_count": 33,
   "metadata": {},
   "outputs": [
    {
     "name": "stdout",
     "output_type": "stream",
     "text": [
      "+--------+----------+-----------------+---------+\n",
      "|order_id|product_id|add_to_cart_order|reordered|\n",
      "+--------+----------+-----------------+---------+\n",
      "|       1|     49302|                1|        1|\n",
      "|       1|     11109|                2|        1|\n",
      "|       1|     10246|                3|        0|\n",
      "|       1|     49683|                4|        0|\n",
      "|       1|     43633|                5|        1|\n",
      "|       1|     13176|                6|        0|\n",
      "|       1|     47209|                7|        0|\n",
      "|       1|     22035|                8|        1|\n",
      "|      36|     39612|                1|        0|\n",
      "|      36|     19660|                2|        1|\n",
      "|      36|     49235|                3|        0|\n",
      "|      36|     43086|                4|        1|\n",
      "|      36|     46620|                5|        1|\n",
      "|      36|     34497|                6|        1|\n",
      "|      36|     48679|                7|        1|\n",
      "|      36|     46979|                8|        1|\n",
      "|      38|     11913|                1|        0|\n",
      "|      38|     18159|                2|        0|\n",
      "|      38|      4461|                3|        0|\n",
      "|      38|     21616|                4|        1|\n",
      "+--------+----------+-----------------+---------+\n",
      "only showing top 20 rows\n",
      "\n"
     ]
    }
   ],
   "source": [
    "order_prod_train_df.show()"
   ]
  },
  {
   "cell_type": "code",
   "execution_count": 34,
   "metadata": {},
   "outputs": [],
   "source": [
    "#Merging of products and aisles\n",
    "products_and_aisles_df = products_df.join(aisles_df, aisles_df[\"aisle_id\"] == products_df[\"aisle_id\"])"
   ]
  },
  {
   "cell_type": "code",
   "execution_count": 37,
   "metadata": {},
   "outputs": [],
   "source": [
    "products_and_aisles_df = products_df.join(aisles_df, [\"aisle_id\"])"
   ]
  },
  {
   "cell_type": "code",
   "execution_count": null,
   "metadata": {},
   "outputs": [],
   "source": [
    "#Merging prod aisles with orders useing product id:"
   ]
  },
  {
   "cell_type": "code",
   "execution_count": 43,
   "metadata": {},
   "outputs": [],
   "source": [
    "o_prod_ais = products_and_aisles_df.join(order_prod_train_df, [\"product_id\"]) "
   ]
  },
  {
   "cell_type": "code",
   "execution_count": 46,
   "metadata": {},
   "outputs": [],
   "source": [
    "final_instacart_df = o_prod_ais.join(dep_df,[\"department_id\"])"
   ]
  },
  {
   "cell_type": "code",
   "execution_count": 48,
   "metadata": {},
   "outputs": [
    {
     "name": "stdout",
     "output_type": "stream",
     "text": [
      "+-------------+----------+--------+------------+------------+--------+-----------------+---------+----------+\n",
      "|department_id|product_id|aisle_id|product_name|       aisle|order_id|add_to_cart_order|reordered|department|\n",
      "+-------------+----------+--------+------------+------------+--------+-----------------+---------+----------+\n",
      "|            4|       148|      24|  Nectarines|fresh fruits|   36580|               24|        1|   produce|\n",
      "|            4|       148|      24|  Nectarines|fresh fruits|   58089|               13|        0|   produce|\n",
      "|            4|       148|      24|  Nectarines|fresh fruits|  129966|               11|        1|   produce|\n",
      "|            4|       148|      24|  Nectarines|fresh fruits|  134443|               14|        0|   produce|\n",
      "|            4|       148|      24|  Nectarines|fresh fruits|  202617|                4|        1|   produce|\n",
      "|            4|       148|      24|  Nectarines|fresh fruits|  284826|               10|        1|   produce|\n",
      "|            4|       148|      24|  Nectarines|fresh fruits|  292177|                2|        1|   produce|\n",
      "|            4|       148|      24|  Nectarines|fresh fruits|  389147|                1|        0|   produce|\n",
      "|            4|       148|      24|  Nectarines|fresh fruits|  401329|                5|        1|   produce|\n",
      "|            4|       148|      24|  Nectarines|fresh fruits|  405674|                5|        0|   produce|\n",
      "|            4|       148|      24|  Nectarines|fresh fruits|  407503|               32|        1|   produce|\n",
      "|            4|       148|      24|  Nectarines|fresh fruits|  452836|               20|        1|   produce|\n",
      "|            4|       148|      24|  Nectarines|fresh fruits|  539401|               15|        1|   produce|\n",
      "|            4|       148|      24|  Nectarines|fresh fruits|  604121|                4|        1|   produce|\n",
      "|            4|       148|      24|  Nectarines|fresh fruits|  606045|                3|        0|   produce|\n",
      "|            4|       148|      24|  Nectarines|fresh fruits|  696346|               19|        0|   produce|\n",
      "|            4|       148|      24|  Nectarines|fresh fruits|  697102|                9|        0|   produce|\n",
      "|            4|       148|      24|  Nectarines|fresh fruits|  704303|                9|        1|   produce|\n",
      "|            4|       148|      24|  Nectarines|fresh fruits|  732117|               24|        0|   produce|\n",
      "|            4|       148|      24|  Nectarines|fresh fruits|  739215|               24|        0|   produce|\n",
      "+-------------+----------+--------+------------+------------+--------+-----------------+---------+----------+\n",
      "only showing top 20 rows\n",
      "\n"
     ]
    }
   ],
   "source": [
    "#Fully Merged Dataframe with all columns\n",
    "final_instacart_df.show()"
   ]
  },
  {
   "cell_type": "markdown",
   "metadata": {},
   "source": [
    "#### From the above result, we can see that there is neither nan or null data within the columns of the dataset."
   ]
  },
  {
   "cell_type": "markdown",
   "metadata": {},
   "source": [
    "## Finding the most ordered products (top 10)"
   ]
  },
  {
   "cell_type": "code",
   "execution_count": 60,
   "metadata": {},
   "outputs": [],
   "source": [
    "top_10_df = final_instacart_df.orderBy(\"add_to_cart_order\", ascending=[0])"
   ]
  },
  {
   "cell_type": "code",
   "execution_count": 64,
   "metadata": {},
   "outputs": [
    {
     "name": "stdout",
     "output_type": "stream",
     "text": [
      "+-------------+----------+--------+--------------------+--------------------+--------+-----------------+---------+---------------+\n",
      "|department_id|product_id|aisle_id|        product_name|               aisle|order_id|add_to_cart_order|reordered|     department|\n",
      "+-------------+----------+--------+--------------------+--------------------+--------+-----------------+---------+---------------+\n",
      "|           19|     21641|     117|Mixed Nuts Lightl...|nuts seeds dried ...| 1395075|               80|        0|         snacks|\n",
      "|            4|     41771|     123|Fresh European St...|packaged vegetabl...| 2813632|               80|        1|        produce|\n",
      "|           19|     14862|      23|Aged White Chedda...|       popcorn jerky| 2813632|               79|        0|         snacks|\n",
      "|            4|     47766|      24|     Organic Avocado|        fresh fruits| 1395075|               79|        1|        produce|\n",
      "|           14|      6187|     121|  Raisin Bran Cereal|              cereal| 2813632|               78|        0|      breakfast|\n",
      "|            4|     45063|     123|Organic Baby Bell...|packaged vegetabl...| 1395075|               78|        1|        produce|\n",
      "|           18|      1709|      56|Done Baby Wipes C...|       diapers wipes| 1395075|               77|        0|         babies|\n",
      "|            4|     38400|      83|Asparation/Brocco...|    fresh vegetables| 2813632|               77|        1|        produce|\n",
      "|           16|     27086|      53|         Half & Half|               cream|  949182|               77|        1|     dairy eggs|\n",
      "|           16|     27845|      84|  Organic Whole Milk|                milk|  949182|               76|        1|     dairy eggs|\n",
      "|           15|        79|      95|Wild Albacore Tun...| canned meat seafood|  341238|               76|        0|   canned goods|\n",
      "|           18|     44497|      56|Fragrance Free Na...|       diapers wipes| 1395075|               76|        1|         babies|\n",
      "|            7|     12440|      31| California Lemonade|        refrigerated| 2869702|               76|        1|      beverages|\n",
      "|            1|     30806|     129|Olive Oil Rosemar...|frozen appetizers...| 2813632|               76|        0|         frozen|\n",
      "|            5|     42148|      27|   Dark Belgian Beer|       beers coolers|  312611|               75|        1|        alcohol|\n",
      "|           13|     31506|      19|Extra Virgin Oliv...|       oils vinegars|  341238|               75|        0|         pantry|\n",
      "|           16|     49628|     120|   Yoghurt Blueberry|              yogurt| 2869702|               75|        0|     dairy eggs|\n",
      "|           16|     17758|     120|Strawberry Rhubar...|              yogurt|  949182|               75|        0|     dairy eggs|\n",
      "|            9|     44325|     131|Elbow Macaroni Pasta|           dry pasta| 2813632|               75|        0|dry goods pasta|\n",
      "|           17|     21868|      54|Bathroom Tissue, ...|         paper goods| 1395075|               75|        1|      household|\n",
      "+-------------+----------+--------+--------------------+--------------------+--------+-----------------+---------+---------------+\n",
      "only showing top 20 rows\n",
      "\n"
     ]
    }
   ],
   "source": [
    "top_10_df.show()"
   ]
  },
  {
   "cell_type": "markdown",
   "metadata": {},
   "source": [
    "#### Above, we can see the top 10 products that are the most purchased."
   ]
  },
  {
   "cell_type": "markdown",
   "metadata": {},
   "source": [
    "### Do people usually reorder the same previously ordered products? Answer: Yes, people usually reorder the same items"
   ]
  },
  {
   "cell_type": "markdown",
   "metadata": {},
   "source": [
    "## Obtaining the Top-10 Departments "
   ]
  },
  {
   "cell_type": "code",
   "execution_count": 86,
   "metadata": {},
   "outputs": [
    {
     "name": "stdout",
     "output_type": "stream",
     "text": [
      "+-------------+------+\n",
      "|department_id| count|\n",
      "+-------------+------+\n",
      "|            7|114046|\n",
      "|           15| 46799|\n",
      "|           11| 21570|\n",
      "|            3| 48394|\n",
      "|            8|  4497|\n",
      "|           16|217051|\n",
      "|            5|  5598|\n",
      "|           18| 14941|\n",
      "|           17| 35986|\n",
      "|            6| 11902|\n",
      "+-------------+------+\n",
      "only showing top 10 rows\n",
      "\n"
     ]
    }
   ],
   "source": [
    "final_instacart_df.groupBy(\"department_id\").count().show(10)"
   ]
  },
  {
   "cell_type": "markdown",
   "metadata": {},
   "source": [
    "### From the above we can see the top 10 departments and their frequencies"
   ]
  },
  {
   "cell_type": "markdown",
   "metadata": {},
   "source": [
    "## List top 10 products ordered in the morning (6 AM to 11 AM)"
   ]
  },
  {
   "cell_type": "code",
   "execution_count": 87,
   "metadata": {},
   "outputs": [],
   "source": [
    "final_dataframe = final_instacart_df.join(orders_df, [\"order_id\"])"
   ]
  },
  {
   "cell_type": "code",
   "execution_count": 100,
   "metadata": {},
   "outputs": [],
   "source": [
    "final_dataframe.createOrReplaceTempView(\"final_table\")\n"
   ]
  },
  {
   "cell_type": "code",
   "execution_count": 103,
   "metadata": {},
   "outputs": [
    {
     "name": "stdout",
     "output_type": "stream",
     "text": [
      "+--------------------+-----------------+\n",
      "|        product_name|order_hour_of_day|\n",
      "+--------------------+-----------------+\n",
      "|Organic Strawberries|                8|\n",
      "|          Raw Shrimp|                8|\n",
      "|Bag of Organic Ba...|                8|\n",
      "|Chicken Apple Sau...|                8|\n",
      "|    Pink Lady Apples|                8|\n",
      "|  Seedless Cucumbers|                8|\n",
      "|Versatile Stain R...|                8|\n",
      "|   Organic Mandarins|                8|\n",
      "|Italian Pasta Sau...|               11|\n",
      "|      Globe Eggplant|               11|\n",
      "+--------------------+-----------------+\n",
      "only showing top 10 rows\n",
      "\n"
     ]
    }
   ],
   "source": [
    "spark.sql(\"SELECT product_name, order_hour_of_day FROM final_table WHERE order_hour_of_day >= 6 AND order_hour_of_day <= 11\").show(10)"
   ]
  },
  {
   "cell_type": "markdown",
   "metadata": {},
   "source": [
    "## Finding missing data in the dataframe"
   ]
  },
  {
   "cell_type": "code",
   "execution_count": 105,
   "metadata": {},
   "outputs": [
    {
     "name": "stdout",
     "output_type": "stream",
     "text": [
      "+--------+-------------+----------+--------+------------+-----+-----------------+---------+----------+-------+--------+------------+---------+-----------------+----------------------+\n",
      "|order_id|department_id|product_id|aisle_id|product_name|aisle|add_to_cart_order|reordered|department|user_id|eval_set|order_number|order_dow|order_hour_of_day|days_since_prior_order|\n",
      "+--------+-------------+----------+--------+------------+-----+-----------------+---------+----------+-------+--------+------------+---------+-----------------+----------------------+\n",
      "|       0|            0|         0|       0|           0|    0|                0|        0|         0|      0|       0|           0|        0|                0|                     0|\n",
      "+--------+-------------+----------+--------+------------+-----+-----------------+---------+----------+-------+--------+------------+---------+-----------------+----------------------+\n",
      "\n"
     ]
    }
   ],
   "source": [
    "from pyspark.sql.functions import isnan, when, count, col\n",
    "final_dataframe.select([count(when(isnan(c), c)).alias(c) for c in final_dataframe.columns]).show()"
   ]
  },
  {
   "cell_type": "code",
   "execution_count": null,
   "metadata": {},
   "outputs": [],
   "source": []
  }
 ],
 "metadata": {
  "kernelspec": {
   "display_name": "Python 3",
   "language": "python",
   "name": "python3"
  },
  "language_info": {
   "codemirror_mode": {
    "name": "ipython",
    "version": 3
   },
   "file_extension": ".py",
   "mimetype": "text/x-python",
   "name": "python",
   "nbconvert_exporter": "python",
   "pygments_lexer": "ipython3",
   "version": "3.7.6"
  }
 },
 "nbformat": 4,
 "nbformat_minor": 4
}
