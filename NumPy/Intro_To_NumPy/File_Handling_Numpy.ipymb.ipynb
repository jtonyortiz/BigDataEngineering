{
 "cells": [
  {
   "cell_type": "markdown",
   "metadata": {},
   "source": [
    "\n",
    "\n",
    "## Demo 3: File Handling In NumPy"
   ]
  },
  {
   "cell_type": "markdown",
   "metadata": {},
   "source": [
    "In this demo, you will be shown how to handle files in numpy."
   ]
  },
  {
   "cell_type": "markdown",
   "metadata": {},
   "source": [
    "### Loading and Saving Data in Binary file"
   ]
  },
  {
   "cell_type": "code",
   "execution_count": 1,
   "metadata": {},
   "outputs": [],
   "source": [
    "#Import the library\n",
    "import numpy as np"
   ]
  },
  {
   "cell_type": "code",
   "execution_count": 2,
   "metadata": {},
   "outputs": [
    {
     "name": "stdout",
     "output_type": "stream",
     "text": [
      "a= [[0. 0. 0.]\n",
      " [0. 0. 0.]\n",
      " [0. 0. 0.]]\n",
      "b= [[1. 1. 1.]\n",
      " [1. 1. 1.]\n",
      " [1. 1. 1.]]\n"
     ]
    }
   ],
   "source": [
    "#Creating the array using zeros() and ones()\n",
    "a = np.zeros((3,3))\n",
    "b = np.ones((3,3))\n",
    "print('a=',a)\n",
    "print('b=',b)"
   ]
  },
  {
   "cell_type": "code",
   "execution_count": 3,
   "metadata": {},
   "outputs": [],
   "source": [
    "#SavE arrays to binary file\n",
    "np.save('file1.npy',(a,b))"
   ]
  },
  {
   "cell_type": "code",
   "execution_count": 4,
   "metadata": {},
   "outputs": [
    {
     "name": "stdout",
     "output_type": "stream",
     "text": [
      "[[[0. 0. 0.]\n",
      "  [0. 0. 0.]\n",
      "  [0. 0. 0.]]\n",
      "\n",
      " [[1. 1. 1.]\n",
      "  [1. 1. 1.]\n",
      "  [1. 1. 1.]]]\n"
     ]
    }
   ],
   "source": [
    "#Load data from binary file\n",
    "c=np.load('file1.npy')\n",
    "print(c)"
   ]
  },
  {
   "cell_type": "markdown",
   "metadata": {},
   "source": [
    "### Loading and Saving data in text and csv file"
   ]
  },
  {
   "cell_type": "code",
   "execution_count": 5,
   "metadata": {},
   "outputs": [],
   "source": [
    "#Import the library\n",
    "import numpy as np"
   ]
  },
  {
   "cell_type": "code",
   "execution_count": 6,
   "metadata": {},
   "outputs": [
    {
     "name": "stdout",
     "output_type": "stream",
     "text": [
      "[0 1 2 3 4 5 6 7 8 9]\n"
     ]
    }
   ],
   "source": [
    "#Create an array\n",
    "a = np.arange(0,10,1)\n",
    "print(a)"
   ]
  },
  {
   "cell_type": "code",
   "execution_count": 7,
   "metadata": {},
   "outputs": [
    {
     "name": "stdout",
     "output_type": "stream",
     "text": [
      "the file contains:\n",
      "0.000000000000000000e+00\n",
      "1.000000000000000000e+00\n",
      "2.000000000000000000e+00\n",
      "3.000000000000000000e+00\n",
      "4.000000000000000000e+00\n",
      "5.000000000000000000e+00\n",
      "6.000000000000000000e+00\n",
      "7.000000000000000000e+00\n",
      "8.000000000000000000e+00\n",
      "9.000000000000000000e+00\n",
      "\n"
     ]
    }
   ],
   "source": [
    "#Save array to text file and reading the file\n",
    "b = np.savetxt('file2.txt', a, delimiter =', ')    \n",
    "c = open(\"file2.txt\", 'r')# open file in read mode \n",
    "  \n",
    "print(\"the file contains:\") \n",
    "print(c.read()) "
   ]
  },
  {
   "cell_type": "code",
   "execution_count": 8,
   "metadata": {},
   "outputs": [
    {
     "name": "stdout",
     "output_type": "stream",
     "text": [
      "[0. 1. 2. 3. 4. 5. 6. 7. 8. 9.]\n"
     ]
    }
   ],
   "source": [
    "#Recover data from text file\n",
    "d=np.genfromtxt('file2.txt')\n",
    "print(d)"
   ]
  },
  {
   "cell_type": "code",
   "execution_count": 9,
   "metadata": {},
   "outputs": [
    {
     "data": {
      "text/plain": [
       "array([420., 280., 350., 269., 317., 470., 333., 365., 305., 350., 460.,\n",
       "       474., 409., 377., 415., 382., 298., 462., 370., 313., 464., 302.,\n",
       "       252., 259., 308., 392., 424., 403., 370., 328., 398., 434., 291.,\n",
       "       472., 263., 439., 464., 449., 401., 364., 296., 292., 438., 357.,\n",
       "       331., 317., 429., 407., 321., 274., 447., 274., 437., 411., 257.,\n",
       "       310., 396., 270., 311., 459., 378., 316., 283., 266., 381., 409.,\n",
       "       313., 306., 448., 348., 292., 400., 352., 441., 428., 309., 441.,\n",
       "       439., 264., 281., 302., 432., 423., 336., 383., 321., 469., 270.,\n",
       "       341., 281., 403., 333., 323., 348., 345., 397., 449., 261., 456.,\n",
       "       370., 322., 379., 446., 404., 301., 254., 351., 444., 264., 286.,\n",
       "       463., 273., 316., 324., 465., 398., 324., 340., 414., 346., 408.,\n",
       "       332., 394., 474., 398., 262., 410., 391., 444., 461.])"
      ]
     },
     "execution_count": 9,
     "metadata": {},
     "output_type": "execute_result"
    }
   ],
   "source": [
    "#Load a marks.csv file \n",
    "data = np.loadtxt('marks.csv',delimiter=',',usecols=(5),skiprows=1)\n",
    "data"
   ]
  },
  {
   "cell_type": "markdown",
   "metadata": {},
   "source": [
    "#### Conclusion: This code demonstrates how to perform file handling in numpy"
   ]
  }
 ],
 "metadata": {
  "kernelspec": {
   "display_name": "Python 3",
   "language": "python",
   "name": "python3"
  },
  "language_info": {
   "codemirror_mode": {
    "name": "ipython",
    "version": 3
   },
   "file_extension": ".py",
   "mimetype": "text/x-python",
   "name": "python",
   "nbconvert_exporter": "python",
   "pygments_lexer": "ipython3",
   "version": "3.7.3"
  }
 },
 "nbformat": 4,
 "nbformat_minor": 2
}
